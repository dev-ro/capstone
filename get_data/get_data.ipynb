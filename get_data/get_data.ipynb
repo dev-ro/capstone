{
 "cells": [
  {
   "cell_type": "code",
   "execution_count": 102,
   "metadata": {},
   "outputs": [],
   "source": [
    "# !pip install opensubtitlescom"
   ]
  },
  {
   "cell_type": "code",
   "execution_count": 106,
   "metadata": {},
   "outputs": [],
   "source": [
    "# method to download and save imdb data to data/raw/\n",
    "import requests\n",
    "\n",
    "def download_data(url, filename):\n",
    "    response = requests.get(url)\n",
    "    with open(filename, 'wb') as file:\n",
    "        file.write(response.content)\n",
    "\n",
    "url = 'https://datasets.imdbws.com/'\n",
    "basics = 'title.basics.tsv.gz'\n",
    "ratings = 'title.ratings.tsv.gz'\n",
    "path = '../data/raw/'\n",
    "\n",
    "download_data(f'{url}{ratings}', f'{path}{ratings}')\n",
    "download_data(f'{url}{basics}', f'{path}{basics}')"
   ]
  },
  {
   "cell_type": "code",
   "execution_count": 107,
   "metadata": {},
   "outputs": [
    {
     "name": "stderr",
     "output_type": "stream",
     "text": [
      "C:\\Users\\kyle0\\AppData\\Local\\Temp\\ipykernel_33080\\1510432930.py:4: DtypeWarning: Columns (7) have mixed types. Specify dtype option on import or set low_memory=False.\n",
      "  basics_df = pd.read_csv(f'{path}{basics}', sep='\\t', na_values='\\\\N')\n"
     ]
    }
   ],
   "source": [
    "import pandas as pd\n",
    "\n",
    "# load the data\n",
    "basics_df = pd.read_csv(f'{path}{basics}', sep='\\t', na_values='\\\\N')\n",
    "ratings_df = pd.read_csv(f'{path}{ratings}', sep='\\t', na_values='\\\\N')"
   ]
  },
  {
   "cell_type": "code",
   "execution_count": 108,
   "metadata": {},
   "outputs": [],
   "source": [
    "# filter out only movies\n",
    "movies_df = basics_df[basics_df['titleType'] == 'movie']"
   ]
  },
  {
   "cell_type": "code",
   "execution_count": 110,
   "metadata": {},
   "outputs": [],
   "source": [
    "movies_df = movies_df.merge(ratings_df, on='tconst')"
   ]
  },
  {
   "cell_type": "code",
   "execution_count": 111,
   "metadata": {},
   "outputs": [],
   "source": [
    "# sort by number of votes\n",
    "movies_df = movies_df.sort_values('numVotes', ascending=False)"
   ]
  },
  {
   "cell_type": "code",
   "execution_count": 112,
   "metadata": {},
   "outputs": [],
   "source": [
    "# remove adult movies\n",
    "movies_df = movies_df[movies_df['isAdult'] == 0]"
   ]
  },
  {
   "cell_type": "code",
   "execution_count": 113,
   "metadata": {},
   "outputs": [],
   "source": [
    "# make new column called imdb_id. This is the same as tconst but with 'tt' removed\n",
    "movies_df['imdb_id'] = movies_df['tconst'].str[2:]\n",
    "\n",
    "# now remove leading zeroes (for the subtitle api)\n",
    "movies_df['imdb_id'] = movies_df['imdb_id'].str.lstrip('0')"
   ]
  },
  {
   "cell_type": "code",
   "execution_count": 118,
   "metadata": {},
   "outputs": [],
   "source": [
    "df = movies_df[['tconst', 'imdb_id', 'primaryTitle', 'startYear', 'averageRating', 'numVotes']]\n",
    "df = df.reset_index(drop=True)\n",
    "\n",
    "# drop startYear if it is NaN\n",
    "df = df.dropna(subset=['startYear'])\n",
    "\n",
    "df['startYear'] = df['startYear'].astype(int)\n",
    "df['averageRating'] = df['averageRating'].astype(float)\n",
    "df['numVotes'] = df['numVotes'].astype(int)\n",
    "\n",
    "# save as tsv\n",
    "df[:20000].to_csv('../data/processed/movies.tsv', sep='\\t', index=False)"
   ]
  },
  {
   "cell_type": "code",
   "execution_count": 98,
   "metadata": {},
   "outputs": [],
   "source": [
    "from opensubtitlescom import OpenSubtitles\n",
    "import json\n",
    "import os\n",
    "from dotenv import load_dotenv\n",
    "load_dotenv()  # Loads variables from the .env file\n",
    "\n",
    "APP_NAME = os.getenv('APP_NAME')\n",
    "API_KEY = os.getenv('API_KEY')\n",
    "MY_USERNAME = os.getenv('MY_USERNAME')\n",
    "MY_PASSWORD = os.getenv('MY_PASSWORD')\n",
    "\n",
    "# Initialize the OpenSubtitles client\n",
    "subtitles = OpenSubtitles(APP_NAME, API_KEY)\n",
    "subtitles.login(MY_USERNAME, MY_PASSWORD)"
   ]
  },
  {
   "cell_type": "code",
   "execution_count": 116,
   "metadata": {},
   "outputs": [],
   "source": [
    "# list movie ids\n",
    "ids = df['imdb_id'][:20000].tolist()\n",
    "# ids"
   ]
  },
  {
   "cell_type": "code",
   "execution_count": 117,
   "metadata": {},
   "outputs": [
    {
     "name": "stderr",
     "output_type": "stream",
     "text": [
      "API `download` failed with 406: {\"requests\":100,\"remaining\":0,\"message\":\"You have downloaded your allowed 100 subtitles for 24h.Your quota will be renewed in 07 hours and 21 minutes (2024-04-08 23:59:59 UTC) ts=1712594281 \",\"reset_time\":\"07 hours and 21 minutes\",\"reset_time_utc\":\"2024-04-08T23:59:59.000Z\",\"uk\":\"app_ud_94434\",\"uid\":680074,\"ts\":1712594281}\n"
     ]
    },
    {
     "ename": "OpenSubtitlesException",
     "evalue": "Failed with HTTP 406 Client Error: Not Acceptable for url: https://api.opensubtitles.com/api/v1/download: 406 Client Error: Not Acceptable for url: https://api.opensubtitles.com/api/v1/download",
     "output_type": "error",
     "traceback": [
      "\u001b[1;31m---------------------------------------------------------------------------\u001b[0m",
      "\u001b[1;31mHTTPError\u001b[0m                                 Traceback (most recent call last)",
      "File \u001b[1;32mc:\\Users\\kyle0\\anaconda3\\Lib\\site-packages\\opensubtitlescom\\opensubtitles.py:86\u001b[0m, in \u001b[0;36mOpenSubtitles.send_api\u001b[1;34m(self, cmd, body, method)\u001b[0m\n\u001b[0;32m     85\u001b[0m     logger\u001b[38;5;241m.\u001b[39merror(\u001b[38;5;124mf\u001b[39m\u001b[38;5;124m\"\u001b[39m\u001b[38;5;124mAPI `\u001b[39m\u001b[38;5;132;01m{\u001b[39;00mcmd\u001b[38;5;132;01m}\u001b[39;00m\u001b[38;5;124m` failed with \u001b[39m\u001b[38;5;132;01m{\u001b[39;00mresponse\u001b[38;5;241m.\u001b[39mstatus_code\u001b[38;5;132;01m}\u001b[39;00m\u001b[38;5;124m: \u001b[39m\u001b[38;5;132;01m{\u001b[39;00mresponse\u001b[38;5;241m.\u001b[39mcontent\u001b[38;5;241m.\u001b[39mdecode(\u001b[38;5;124m'\u001b[39m\u001b[38;5;124mutf-8\u001b[39m\u001b[38;5;124m'\u001b[39m)\u001b[38;5;132;01m}\u001b[39;00m\u001b[38;5;124m\"\u001b[39m)\n\u001b[1;32m---> 86\u001b[0m response\u001b[38;5;241m.\u001b[39mraise_for_status()\n\u001b[0;32m     87\u001b[0m json_response \u001b[38;5;241m=\u001b[39m response\u001b[38;5;241m.\u001b[39mjson()\n",
      "File \u001b[1;32mc:\\Users\\kyle0\\anaconda3\\Lib\\site-packages\\requests\\models.py:1021\u001b[0m, in \u001b[0;36mResponse.raise_for_status\u001b[1;34m(self)\u001b[0m\n\u001b[0;32m   1020\u001b[0m \u001b[38;5;28;01mif\u001b[39;00m http_error_msg:\n\u001b[1;32m-> 1021\u001b[0m     \u001b[38;5;28;01mraise\u001b[39;00m HTTPError(http_error_msg, response\u001b[38;5;241m=\u001b[39m\u001b[38;5;28mself\u001b[39m)\n",
      "\u001b[1;31mHTTPError\u001b[0m: 406 Client Error: Not Acceptable for url: https://api.opensubtitles.com/api/v1/download",
      "\nDuring handling of the above exception, another exception occurred:\n",
      "\u001b[1;31mOpenSubtitlesException\u001b[0m                    Traceback (most recent call last)",
      "Cell \u001b[1;32mIn[117], line 21\u001b[0m\n\u001b[0;32m     18\u001b[0m     \u001b[38;5;28;01mcontinue\u001b[39;00m\n\u001b[0;32m     20\u001b[0m \u001b[38;5;66;03m# Download and parse the subtitle object\u001b[39;00m\n\u001b[1;32m---> 21\u001b[0m srt \u001b[38;5;241m=\u001b[39m subtitles\u001b[38;5;241m.\u001b[39mdownload_and_parse(response\u001b[38;5;241m.\u001b[39mdata[\u001b[38;5;241m0\u001b[39m])\n\u001b[0;32m     23\u001b[0m \u001b[38;5;66;03m# Save\u001b[39;00m\n\u001b[0;32m     24\u001b[0m \u001b[38;5;28;01mwith\u001b[39;00m \u001b[38;5;28mopen\u001b[39m(\u001b[38;5;124mf\u001b[39m\u001b[38;5;124m'\u001b[39m\u001b[38;5;132;01m{\u001b[39;00msubtitle_path\u001b[38;5;132;01m}\u001b[39;00m\u001b[38;5;132;01m{\u001b[39;00mi\u001b[38;5;132;01m}\u001b[39;00m\u001b[38;5;124m - \u001b[39m\u001b[38;5;132;01m{\u001b[39;00mtitle\u001b[38;5;132;01m}\u001b[39;00m\u001b[38;5;124m.txt\u001b[39m\u001b[38;5;124m'\u001b[39m, \u001b[38;5;124m'\u001b[39m\u001b[38;5;124mw\u001b[39m\u001b[38;5;124m'\u001b[39m, encoding\u001b[38;5;241m=\u001b[39m\u001b[38;5;124m'\u001b[39m\u001b[38;5;124mutf-8\u001b[39m\u001b[38;5;124m'\u001b[39m) \u001b[38;5;28;01mas\u001b[39;00m f:\n",
      "File \u001b[1;32mc:\\Users\\kyle0\\anaconda3\\Lib\\site-packages\\opensubtitlescom\\opensubtitles.py:263\u001b[0m, in \u001b[0;36mOpenSubtitles.download_and_parse\u001b[1;34m(self, *args, **kwargs)\u001b[0m\n\u001b[0;32m    237\u001b[0m \u001b[38;5;28;01mdef\u001b[39;00m \u001b[38;5;21mdownload_and_parse\u001b[39m(\u001b[38;5;28mself\u001b[39m, \u001b[38;5;241m*\u001b[39margs, \u001b[38;5;241m*\u001b[39m\u001b[38;5;241m*\u001b[39mkwargs) \u001b[38;5;241m-\u001b[39m\u001b[38;5;241m>\u001b[39m \u001b[38;5;28mlist\u001b[39m:\n\u001b[0;32m    238\u001b[0m \u001b[38;5;250m    \u001b[39m\u001b[38;5;124;03m\"\"\"\u001b[39;00m\n\u001b[0;32m    239\u001b[0m \u001b[38;5;124;03m    Download a subtitle file and parse it into a list of subtitle entries in SRT format.\u001b[39;00m\n\u001b[0;32m    240\u001b[0m \n\u001b[1;32m   (...)\u001b[0m\n\u001b[0;32m    261\u001b[0m \u001b[38;5;124;03m    ```\u001b[39;00m\n\u001b[0;32m    262\u001b[0m \u001b[38;5;124;03m    \"\"\"\u001b[39;00m\n\u001b[1;32m--> 263\u001b[0m     content \u001b[38;5;241m=\u001b[39m \u001b[38;5;28mself\u001b[39m\u001b[38;5;241m.\u001b[39mdownload(\u001b[38;5;241m*\u001b[39margs, \u001b[38;5;241m*\u001b[39m\u001b[38;5;241m*\u001b[39mkwargs)\n\u001b[0;32m    264\u001b[0m     \u001b[38;5;28;01mreturn\u001b[39;00m \u001b[38;5;28mself\u001b[39m\u001b[38;5;241m.\u001b[39mparse_srt(\u001b[38;5;28mself\u001b[39m\u001b[38;5;241m.\u001b[39mbytes_to_str(content))\n",
      "File \u001b[1;32mc:\\Users\\kyle0\\anaconda3\\Lib\\site-packages\\opensubtitlescom\\opensubtitles.py:304\u001b[0m, in \u001b[0;36mOpenSubtitles.download\u001b[1;34m(self, file_id, sub_format, file_name, in_fps, out_fps, timeshift, force_download)\u001b[0m\n\u001b[0;32m    299\u001b[0m \u001b[38;5;28;01mif\u001b[39;00m \u001b[38;5;28mself\u001b[39m\u001b[38;5;241m.\u001b[39muser_downloads_remaining \u001b[38;5;241m<\u001b[39m\u001b[38;5;241m=\u001b[39m \u001b[38;5;241m0\u001b[39m:\n\u001b[0;32m    300\u001b[0m     \u001b[38;5;28;01mraise\u001b[39;00m OpenSubtitlesException(\n\u001b[0;32m    301\u001b[0m         \u001b[38;5;124m\"\u001b[39m\u001b[38;5;124mDownload limit reached. \u001b[39m\u001b[38;5;124m\"\u001b[39m \u001b[38;5;124m\"\u001b[39m\u001b[38;5;124mPlease upgrade your account or wait for your quota to reset (~24hrs)\u001b[39m\u001b[38;5;124m\"\u001b[39m\n\u001b[0;32m    302\u001b[0m     )\n\u001b[1;32m--> 304\u001b[0m search_response_data \u001b[38;5;241m=\u001b[39m DownloadResponse(\u001b[38;5;28mself\u001b[39m\u001b[38;5;241m.\u001b[39msend_api(\u001b[38;5;124m\"\u001b[39m\u001b[38;5;124mdownload\u001b[39m\u001b[38;5;124m\"\u001b[39m, download_body))\n\u001b[0;32m    305\u001b[0m \u001b[38;5;28mself\u001b[39m\u001b[38;5;241m.\u001b[39muser_downloads_remaining \u001b[38;5;241m=\u001b[39m search_response_data\u001b[38;5;241m.\u001b[39mremaining\n\u001b[0;32m    307\u001b[0m \u001b[38;5;28;01mreturn\u001b[39;00m \u001b[38;5;28mself\u001b[39m\u001b[38;5;241m.\u001b[39mdownload_client\u001b[38;5;241m.\u001b[39mget(search_response_data\u001b[38;5;241m.\u001b[39mlink)\n",
      "File \u001b[1;32mc:\\Users\\kyle0\\anaconda3\\Lib\\site-packages\\opensubtitlescom\\opensubtitles.py:90\u001b[0m, in \u001b[0;36mOpenSubtitles.send_api\u001b[1;34m(self, cmd, body, method)\u001b[0m\n\u001b[0;32m     88\u001b[0m     \u001b[38;5;28;01mreturn\u001b[39;00m json_response\n\u001b[0;32m     89\u001b[0m \u001b[38;5;28;01mexcept\u001b[39;00m requests\u001b[38;5;241m.\u001b[39mexceptions\u001b[38;5;241m.\u001b[39mHTTPError \u001b[38;5;28;01mas\u001b[39;00m http_err:\n\u001b[1;32m---> 90\u001b[0m     \u001b[38;5;28;01mraise\u001b[39;00m OpenSubtitlesException(\u001b[38;5;124mf\u001b[39m\u001b[38;5;124m\"\u001b[39m\u001b[38;5;124mFailed with HTTP \u001b[39m\u001b[38;5;132;01m{\u001b[39;00mhttp_err\u001b[38;5;132;01m}\u001b[39;00m\u001b[38;5;124m: \u001b[39m\u001b[38;5;132;01m{\u001b[39;00mhttp_err\u001b[38;5;132;01m}\u001b[39;00m\u001b[38;5;124m\"\u001b[39m)\n\u001b[0;32m     91\u001b[0m \u001b[38;5;28;01mexcept\u001b[39;00m requests\u001b[38;5;241m.\u001b[39mexceptions\u001b[38;5;241m.\u001b[39mRequestException \u001b[38;5;28;01mas\u001b[39;00m req_err:\n\u001b[0;32m     92\u001b[0m     \u001b[38;5;28;01mraise\u001b[39;00m OpenSubtitlesException(\u001b[38;5;124mf\u001b[39m\u001b[38;5;124m\"\u001b[39m\u001b[38;5;124mFailed to send request: \u001b[39m\u001b[38;5;132;01m{\u001b[39;00mreq_err\u001b[38;5;132;01m}\u001b[39;00m\u001b[38;5;124m\"\u001b[39m)\n",
      "\u001b[1;31mOpenSubtitlesException\u001b[0m: Failed with HTTP 406 Client Error: Not Acceptable for url: https://api.opensubtitles.com/api/v1/download: 406 Client Error: Not Acceptable for url: https://api.opensubtitles.com/api/v1/download"
     ]
    }
   ],
   "source": [
    "subtitle_path = \"../data/raw/subtitles/\"\n",
    "\n",
    "for i in ids:\n",
    "    # Search for subtitles based on imdb_id\n",
    "    response = subtitles.search(imdb_id=i, languages=\"en\", order_by=\"download_count\", order_direction=\"desc\")\n",
    "\n",
    "    # Convert the response to a Json format\n",
    "    response_json = response.to_json()\n",
    "    r = json.loads(response_json)\n",
    "    title = r['data'][0]['title'] # Get the title of the movie\n",
    "\n",
    "    # Remove special characters but keep spaces\n",
    "    title = ''.join(e for e in title if e.isalnum() or e.isspace())\n",
    "\n",
    "    # Check if file exists\n",
    "    if os.path.exists(f'{subtitle_path}{i} - {title}.txt'):\n",
    "        continue\n",
    "\n",
    "    # Download and parse the subtitle object\n",
    "    srt = subtitles.download_and_parse(response.data[0])\n",
    "\n",
    "    # Save\n",
    "    with open(f'{subtitle_path}{i} - {title}.txt', 'w', encoding='utf-8') as f:\n",
    "        for i in srt:\n",
    "            # remove '<i>' and '</i>' tags\n",
    "            i.content = i.content.replace('<i>', '').replace('</i>', '')\n",
    "            f.write(i.content + '\\n')\n"
   ]
  },
  {
   "cell_type": "code",
   "execution_count": null,
   "metadata": {},
   "outputs": [],
   "source": []
  }
 ],
 "metadata": {
  "kernelspec": {
   "display_name": "base",
   "language": "python",
   "name": "python3"
  },
  "language_info": {
   "codemirror_mode": {
    "name": "ipython",
    "version": 3
   },
   "file_extension": ".py",
   "mimetype": "text/x-python",
   "name": "python",
   "nbconvert_exporter": "python",
   "pygments_lexer": "ipython3",
   "version": "3.11.7"
  }
 },
 "nbformat": 4,
 "nbformat_minor": 2
}
