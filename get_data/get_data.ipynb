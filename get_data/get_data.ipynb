{
 "cells": [
  {
   "cell_type": "code",
   "execution_count": 2,
   "metadata": {},
   "outputs": [],
   "source": [
    "# !pip install opensubtitlescom"
   ]
  },
  {
   "cell_type": "code",
   "execution_count": 3,
   "metadata": {},
   "outputs": [],
   "source": [
    "# method to download and save imdb data to data/raw/\n",
    "import requests\n",
    "\n",
    "def download_data(url, filename):\n",
    "    response = requests.get(url)\n",
    "    with open(filename, 'wb') as file:\n",
    "        file.write(response.content)\n",
    "\n",
    "url = 'https://datasets.imdbws.com/'\n",
    "basics = 'title.basics.tsv.gz'\n",
    "ratings = 'title.ratings.tsv.gz'\n",
    "path = '../data/raw/'\n",
    "\n",
    "# download_data(f'{url}{ratings}', f'{path}{ratings}')\n",
    "# download_data(f'{url}{basics}', f'{path}{basics}')"
   ]
  },
  {
   "cell_type": "code",
   "execution_count": 4,
   "metadata": {},
   "outputs": [
    {
     "name": "stderr",
     "output_type": "stream",
     "text": [
      "C:\\Users\\kyle0\\AppData\\Local\\Temp\\ipykernel_2848\\1510432930.py:4: DtypeWarning: Columns (7) have mixed types. Specify dtype option on import or set low_memory=False.\n",
      "  basics_df = pd.read_csv(f'{path}{basics}', sep='\\t', na_values='\\\\N')\n"
     ]
    }
   ],
   "source": [
    "import pandas as pd\n",
    "\n",
    "# load the data\n",
    "basics_df = pd.read_csv(f'{path}{basics}', sep='\\t', na_values='\\\\N')\n",
    "ratings_df = pd.read_csv(f'{path}{ratings}', sep='\\t', na_values='\\\\N')"
   ]
  },
  {
   "cell_type": "code",
   "execution_count": 5,
   "metadata": {},
   "outputs": [],
   "source": [
    "# filter out only movies\n",
    "movies_df = basics_df[basics_df['titleType'] == 'movie']"
   ]
  },
  {
   "cell_type": "code",
   "execution_count": 6,
   "metadata": {},
   "outputs": [],
   "source": [
    "movies_df = movies_df.merge(ratings_df, on='tconst')"
   ]
  },
  {
   "cell_type": "code",
   "execution_count": 7,
   "metadata": {},
   "outputs": [],
   "source": [
    "# sort by number of votes\n",
    "movies_df = movies_df.sort_values('numVotes', ascending=False)"
   ]
  },
  {
   "cell_type": "code",
   "execution_count": 11,
   "metadata": {},
   "outputs": [
    {
     "data": {
      "text/html": [
       "<div>\n",
       "<style scoped>\n",
       "    .dataframe tbody tr th:only-of-type {\n",
       "        vertical-align: middle;\n",
       "    }\n",
       "\n",
       "    .dataframe tbody tr th {\n",
       "        vertical-align: top;\n",
       "    }\n",
       "\n",
       "    .dataframe thead th {\n",
       "        text-align: right;\n",
       "    }\n",
       "</style>\n",
       "<table border=\"1\" class=\"dataframe\">\n",
       "  <thead>\n",
       "    <tr style=\"text-align: right;\">\n",
       "      <th></th>\n",
       "      <th>tconst</th>\n",
       "      <th>titleType</th>\n",
       "      <th>primaryTitle</th>\n",
       "      <th>originalTitle</th>\n",
       "      <th>isAdult</th>\n",
       "      <th>startYear</th>\n",
       "      <th>endYear</th>\n",
       "      <th>runtimeMinutes</th>\n",
       "      <th>genres</th>\n",
       "      <th>averageRating</th>\n",
       "      <th>numVotes</th>\n",
       "      <th>imdb_id</th>\n",
       "    </tr>\n",
       "  </thead>\n",
       "  <tbody>\n",
       "    <tr>\n",
       "      <th>61716</th>\n",
       "      <td>tt0111161</td>\n",
       "      <td>movie</td>\n",
       "      <td>The Shawshank Redemption</td>\n",
       "      <td>The Shawshank Redemption</td>\n",
       "      <td>0.0</td>\n",
       "      <td>1994.0</td>\n",
       "      <td>NaN</td>\n",
       "      <td>142.0</td>\n",
       "      <td>Drama</td>\n",
       "      <td>9.3</td>\n",
       "      <td>2880568</td>\n",
       "      <td>111161</td>\n",
       "    </tr>\n",
       "    <tr>\n",
       "      <th>137188</th>\n",
       "      <td>tt0468569</td>\n",
       "      <td>movie</td>\n",
       "      <td>The Dark Knight</td>\n",
       "      <td>The Dark Knight</td>\n",
       "      <td>0.0</td>\n",
       "      <td>2008.0</td>\n",
       "      <td>NaN</td>\n",
       "      <td>152.0</td>\n",
       "      <td>Action,Crime,Drama</td>\n",
       "      <td>9.0</td>\n",
       "      <td>2863134</td>\n",
       "      <td>468569</td>\n",
       "    </tr>\n",
       "    <tr>\n",
       "      <th>178099</th>\n",
       "      <td>tt1375666</td>\n",
       "      <td>movie</td>\n",
       "      <td>Inception</td>\n",
       "      <td>Inception</td>\n",
       "      <td>0.0</td>\n",
       "      <td>2010.0</td>\n",
       "      <td>NaN</td>\n",
       "      <td>148.0</td>\n",
       "      <td>Action,Adventure,Sci-Fi</td>\n",
       "      <td>8.8</td>\n",
       "      <td>2543775</td>\n",
       "      <td>1375666</td>\n",
       "    </tr>\n",
       "    <tr>\n",
       "      <th>71673</th>\n",
       "      <td>tt0137523</td>\n",
       "      <td>movie</td>\n",
       "      <td>Fight Club</td>\n",
       "      <td>Fight Club</td>\n",
       "      <td>0.0</td>\n",
       "      <td>1999.0</td>\n",
       "      <td>NaN</td>\n",
       "      <td>139.0</td>\n",
       "      <td>Drama</td>\n",
       "      <td>8.8</td>\n",
       "      <td>2316350</td>\n",
       "      <td>137523</td>\n",
       "    </tr>\n",
       "    <tr>\n",
       "      <th>60983</th>\n",
       "      <td>tt0109830</td>\n",
       "      <td>movie</td>\n",
       "      <td>Forrest Gump</td>\n",
       "      <td>Forrest Gump</td>\n",
       "      <td>0.0</td>\n",
       "      <td>1994.0</td>\n",
       "      <td>NaN</td>\n",
       "      <td>142.0</td>\n",
       "      <td>Drama,Romance</td>\n",
       "      <td>8.8</td>\n",
       "      <td>2250065</td>\n",
       "      <td>109830</td>\n",
       "    </tr>\n",
       "  </tbody>\n",
       "</table>\n",
       "</div>"
      ],
      "text/plain": [
       "           tconst titleType              primaryTitle  \\\n",
       "61716   tt0111161     movie  The Shawshank Redemption   \n",
       "137188  tt0468569     movie           The Dark Knight   \n",
       "178099  tt1375666     movie                 Inception   \n",
       "71673   tt0137523     movie                Fight Club   \n",
       "60983   tt0109830     movie              Forrest Gump   \n",
       "\n",
       "                   originalTitle  isAdult  startYear  endYear runtimeMinutes  \\\n",
       "61716   The Shawshank Redemption      0.0     1994.0      NaN          142.0   \n",
       "137188           The Dark Knight      0.0     2008.0      NaN          152.0   \n",
       "178099                 Inception      0.0     2010.0      NaN          148.0   \n",
       "71673                 Fight Club      0.0     1999.0      NaN          139.0   \n",
       "60983               Forrest Gump      0.0     1994.0      NaN          142.0   \n",
       "\n",
       "                         genres  averageRating  numVotes  imdb_id  \n",
       "61716                     Drama            9.3   2880568   111161  \n",
       "137188       Action,Crime,Drama            9.0   2863134   468569  \n",
       "178099  Action,Adventure,Sci-Fi            8.8   2543775  1375666  \n",
       "71673                     Drama            8.8   2316350   137523  \n",
       "60983             Drama,Romance            8.8   2250065   109830  "
      ]
     },
     "execution_count": 11,
     "metadata": {},
     "output_type": "execute_result"
    }
   ],
   "source": [
    "# remove adult movies\n",
    "movies_df = movies_df[movies_df['isAdult'] == 0]"
   ]
  },
  {
   "cell_type": "code",
   "execution_count": 9,
   "metadata": {},
   "outputs": [],
   "source": [
    "# make new column called imdb_id. This is the same as tconst but with 'tt' removed\n",
    "movies_df['imdb_id'] = movies_df['tconst'].str[2:]\n",
    "\n",
    "# now remove leading zeroes (for the subtitle api)\n",
    "movies_df['imdb_id'] = movies_df['imdb_id'].str.lstrip('0')"
   ]
  },
  {
   "cell_type": "code",
   "execution_count": 12,
   "metadata": {},
   "outputs": [],
   "source": [
    "df = movies_df[['tconst', 'imdb_id', 'primaryTitle', 'genres', 'startYear', 'averageRating', 'numVotes']]\n",
    "df = df.reset_index(drop=True)\n",
    "\n",
    "# drop startYear if it is NaN\n",
    "df = df.dropna(subset=['startYear'])\n",
    "\n",
    "df['startYear'] = df['startYear'].astype(int)\n",
    "df['averageRating'] = df['averageRating'].astype(float)\n",
    "df['numVotes'] = df['numVotes'].astype(int)\n",
    "\n",
    "# save as tsv\n",
    "df[:10000].to_csv('../data/processed/movies.tsv', sep='\\t', index=False)"
   ]
  },
  {
   "cell_type": "code",
   "execution_count": 1,
   "metadata": {},
   "outputs": [],
   "source": [
    "from opensubtitlescom import OpenSubtitles\n",
    "import pandas as pd\n",
    "import json\n",
    "import os\n",
    "from dotenv import load_dotenv\n",
    "load_dotenv()  # Loads variables from the .env file\n",
    "\n",
    "APP_NAME = os.getenv('APP_NAME')\n",
    "API_KEY = os.getenv('API_KEY')\n",
    "MY_USERNAME = os.getenv('MY_USERNAME')\n",
    "MY_PASSWORD = os.getenv('MY_PASSWORD')\n",
    "\n",
    "# Initialize the OpenSubtitles client\n",
    "subtitles = OpenSubtitles(APP_NAME, API_KEY)\n",
    "subtitles.login(MY_USERNAME, MY_PASSWORD)\n",
    "\n",
    "df = pd.read_csv('../data/processed/movies.tsv', sep='\\t')"
   ]
  },
  {
   "cell_type": "code",
   "execution_count": 2,
   "metadata": {},
   "outputs": [],
   "source": [
    "# list movie ids\n",
    "ids = df['imdb_id'][:415].tolist()\n",
    "# ids"
   ]
  },
  {
   "cell_type": "code",
   "execution_count": 3,
   "metadata": {},
   "outputs": [],
   "source": [
    "subtitle_path = \"../data/raw/subtitles/\"\n",
    "subs_list = os.listdir(subtitle_path)\n",
    "\n",
    "for i in ids:\n",
    "    prefix = f'{subtitle_path}{i} - '  # Construct the base part of the filename\n",
    "\n",
    "    sub_found = False\n",
    "\n",
    "    # Check if subtitles already exist\n",
    "    for file in os.listdir(subtitle_path):\n",
    "        if file.startswith(f'{i} - '):\n",
    "            sub_found = True\n",
    "            break\n",
    "\n",
    "    if sub_found:\n",
    "        # print(f'Subtitles for {i} already exist')\n",
    "        continue\n",
    "\n",
    "    # Search for subtitles based on imdb_id\n",
    "    response = subtitles.search(imdb_id=i, languages=\"en\", order_by=\"download_count\", order_direction=\"desc\")\n",
    "\n",
    "    # Convert the response to a Json format\n",
    "    response_json = response.to_json()\n",
    "    r = json.loads(response_json)\n",
    "    title = r['data'][0]['title'] # Get the title of the movie\n",
    "\n",
    "    # Remove special characters but keep spaces\n",
    "    title = ''.join(e for e in title if e.isalnum() or e.isspace())\n",
    "\n",
    "    # Download and parse the subtitle object\n",
    "    srt = subtitles.download_and_parse(response.data[0])\n",
    "\n",
    "    # Save\n",
    "    with open(f'{prefix}{title}.txt', 'w', encoding='utf-8') as f:\n",
    "        for i in srt:\n",
    "            # remove '<i>' and '</i>' tags\n",
    "            i.content = i.content.replace('<i>', '').replace('</i>', '')\n",
    "            f.write(i.content + '\\n')\n"
   ]
  },
  {
   "cell_type": "code",
   "execution_count": null,
   "metadata": {},
   "outputs": [],
   "source": [
    "\n"
   ]
  },
  {
   "cell_type": "code",
   "execution_count": null,
   "metadata": {},
   "outputs": [],
   "source": []
  }
 ],
 "metadata": {
  "kernelspec": {
   "display_name": "base",
   "language": "python",
   "name": "python3"
  },
  "language_info": {
   "codemirror_mode": {
    "name": "ipython",
    "version": 3
   },
   "file_extension": ".py",
   "mimetype": "text/x-python",
   "name": "python",
   "nbconvert_exporter": "python",
   "pygments_lexer": "ipython3",
   "version": "3.11.7"
  }
 },
 "nbformat": 4,
 "nbformat_minor": 2
}
