{
 "cells": [
  {
   "cell_type": "code",
   "execution_count": 2,
   "metadata": {},
   "outputs": [],
   "source": [
    "# !pip install opensubtitlescom"
   ]
  },
  {
   "cell_type": "code",
   "execution_count": 7,
   "metadata": {},
   "outputs": [],
   "source": [
    "# method to download and save imdb data to data/raw/\n",
    "import requests\n",
    "\n",
    "def download_data(url, filename):\n",
    "    response = requests.get(url)\n",
    "    with open(filename, 'wb') as file:\n",
    "        file.write(response.content)\n",
    "\n",
    "url = 'https://datasets.imdbws.com/'\n",
    "basics = 'title.basics.tsv.gz'\n",
    "ratings = 'title.ratings.tsv.gz'\n",
    "path = '../data/raw/'\n",
    "\n",
    "# download_data(f'{url}{ratings}', f'{path}{ratings}')\n",
    "# download_data(f'{url}{basics}', f'{path}{basics}')"
   ]
  },
  {
   "cell_type": "code",
   "execution_count": 8,
   "metadata": {},
   "outputs": [
    {
     "name": "stderr",
     "output_type": "stream",
     "text": [
      "C:\\Users\\kyle0\\AppData\\Local\\Temp\\ipykernel_30140\\1510432930.py:4: DtypeWarning: Columns (7) have mixed types. Specify dtype option on import or set low_memory=False.\n",
      "  basics_df = pd.read_csv(f'{path}{basics}', sep='\\t', na_values='\\\\N')\n"
     ]
    }
   ],
   "source": [
    "import pandas as pd\n",
    "\n",
    "# load the data\n",
    "basics_df = pd.read_csv(f'{path}{basics}', sep='\\t', na_values='\\\\N')\n",
    "ratings_df = pd.read_csv(f'{path}{ratings}', sep='\\t', na_values='\\\\N')"
   ]
  },
  {
   "cell_type": "code",
   "execution_count": 9,
   "metadata": {},
   "outputs": [],
   "source": [
    "# filter out only movies\n",
    "movies_df = basics_df[basics_df['titleType'] == 'movie']"
   ]
  },
  {
   "cell_type": "code",
   "execution_count": 10,
   "metadata": {},
   "outputs": [],
   "source": [
    "movies_df = movies_df.merge(ratings_df, on='tconst')"
   ]
  },
  {
   "cell_type": "code",
   "execution_count": 11,
   "metadata": {},
   "outputs": [],
   "source": [
    "# sort by number of votes\n",
    "movies_df = movies_df.sort_values('numVotes', ascending=False)"
   ]
  },
  {
   "cell_type": "code",
   "execution_count": 12,
   "metadata": {},
   "outputs": [],
   "source": [
    "# remove adult movies\n",
    "movies_df = movies_df[movies_df['isAdult'] == 0]"
   ]
  },
  {
   "cell_type": "code",
   "execution_count": 13,
   "metadata": {},
   "outputs": [],
   "source": [
    "# make new column called imdb_id. This is the same as tconst but with 'tt' removed\n",
    "movies_df['imdb_id'] = movies_df['tconst'].str[2:]\n",
    "\n",
    "# now remove leading zeroes (for the subtitle api)\n",
    "movies_df['imdb_id'] = movies_df['imdb_id'].str.lstrip('0')"
   ]
  },
  {
   "cell_type": "code",
   "execution_count": 14,
   "metadata": {},
   "outputs": [],
   "source": [
    "df = movies_df[['tconst', 'imdb_id', 'primaryTitle', 'genres', 'startYear', 'averageRating', 'numVotes']]\n",
    "df = df.reset_index(drop=True)\n",
    "\n",
    "# drop startYear if it is NaN\n",
    "df = df.dropna(subset=['startYear'])\n",
    "\n",
    "df['startYear'] = df['startYear'].astype(int)\n",
    "df['averageRating'] = df['averageRating'].astype(float)\n",
    "df['numVotes'] = df['numVotes'].astype(int)\n",
    "\n",
    "# save as tsv\n",
    "df[:50000].to_csv('../data/processed/movies.tsv', sep='\\t', index=False)"
   ]
  },
  {
   "cell_type": "code",
   "execution_count": 15,
   "metadata": {},
   "outputs": [],
   "source": [
    "from opensubtitlescom import OpenSubtitles\n",
    "import pandas as pd\n",
    "import json\n",
    "import os\n",
    "from dotenv import load_dotenv\n",
    "load_dotenv()  # Loads variables from the .env file\n",
    "\n",
    "APP_NAME = os.getenv('APP_NAME')\n",
    "API_KEY = os.getenv('API_KEY')\n",
    "MY_USERNAME = os.getenv('MY_USERNAME')\n",
    "MY_PASSWORD = os.getenv('MY_PASSWORD')\n",
    "\n",
    "# Initialize the OpenSubtitles client\n",
    "subtitles = OpenSubtitles(APP_NAME, API_KEY)\n",
    "subtitles.login(MY_USERNAME, MY_PASSWORD)\n",
    "\n",
    "df = pd.read_csv('../data/processed/movies.tsv', sep='\\t')"
   ]
  },
  {
   "cell_type": "code",
   "execution_count": 16,
   "metadata": {},
   "outputs": [],
   "source": [
    "# list movie ids\n",
    "ids = df['imdb_id'][:20000].tolist()\n",
    "# ids\n",
    "# get title from df based on imdb_id\n",
    "def get_title(imdb_id):\n",
    "    return df[df['imdb_id'] == imdb_id]['primaryTitle'].values[0]\n"
   ]
  },
  {
   "cell_type": "code",
   "execution_count": 17,
   "metadata": {},
   "outputs": [
    {
     "name": "stdout",
     "output_type": "stream",
     "text": [
      "9531772, Sooryavanshi is missing\n",
      "5988370, Reis is missing\n",
      "7825208, Marighella is missing\n",
      "7668842, Enes Batur: Imagination or Reality? is missing\n",
      "1725047, My Little Princess is missing\n",
      "4884540, Angels Apocalypse is missing\n",
      "85809, Koyaanisqatsi is missing\n",
      "6038600, Smolensk is missing\n",
      "7221896, Cumali Ceber: Allah Seni Alsin is missing\n",
      "29808429, Color of Victory is missing\n",
      "27719898, Kaiva is missing\n",
      "3666024, The Red Turtle is missing\n",
      "4465156, Unbreakable Souls is missing\n",
      "1788979, 67th Street, New York, NY is missing\n",
      "15145764, Freddy is missing\n",
      "6990206, Crimea is missing\n",
      "4330758, Black Hawk Down is missing\n",
      "1754730, The Way to Paradise is missing\n",
      "9851854, Major is missing\n",
      "2183014, Love at First Sight is missing\n",
      "3655326, Life Is a Dream is missing\n",
      "3120430, Mantus is missing\n",
      "4458206, Code Name: K.O.Z. is missing\n",
      "4972, The Birth of a Nation is missing\n",
      "13028258, A Thursday is missing\n",
      "4983780, Maanaadu is missing\n",
      "11580854, Sarpatta Parambarai is missing\n",
      "4736550, The Great Hack is missing\n",
      "28362963, Checkmate is missing\n",
      "16492678, Demon Slayer: Kimetsu no Yaiba - Tsuzumi Mansion Arc is missing\n",
      "21383812, Crew is missing\n",
      "14429, Safety Last! is missing\n",
      "28228231, Priyotoma is missing\n",
      "253779, The Foster Brothers is missing\n",
      "2398149, An Officer and a Spy is missing\n",
      "14878948, 15/07: Break of Dawn is missing\n",
      "253614, Saban, Son of Saban is missing\n",
      "13529034, Meenakshi Sundareshwar is missing\n",
      "4558362, Our Story is missing\n",
      "18687124, BTS Permission to Dance on Stage - Seoul: Live Viewing is missing\n",
      "13491678, 72 Hoorain is missing\n",
      "14888874, Demon Slayer: Kimetsu no Yaiba - Mt. Natagumo Arc is missing\n",
      "19857862, Now or Never! is missing\n",
      "1520498, The Oogieloves in the Big Balloon Adventure is missing\n",
      "11375428, Hridayam is missing\n",
      "211946, Berlin Calling is missing\n",
      "13349716, Shyam Singha Roy is missing\n",
      "6173990, Gold is missing\n",
      "289635, Young Adam is missing\n",
      "18578, Wings is missing\n",
      "1808197, Incir Reçeli is missing\n",
      "12964320, Role Play is missing\n",
      "15576460, Zara Hatke Zara Bachke is missing\n",
      "1865569, Çalgi Çengi is missing\n",
      "17592606, Daman is missing\n",
      "252591, King of the Doormen is missing\n",
      "13427, Nanook of the North is missing\n",
      "17075, The Lodger: A Story of the London Fog is missing\n",
      "7063210, The Place is missing\n",
      "410369, Where's Firuze? is missing\n",
      "14753612, Swatantra Veer Savarkar is missing\n",
      "14341, Our Hospitality is missing\n",
      "8737152, Toma is missing\n",
      "No subtitle found for 101420 - Begotten\n",
      "No subtitle found for 16332 - Seven Chances\n",
      "No subtitle found for 8075016 - The Courier\n",
      "No subtitle found for 4107858 - MSG: The Messenger of God\n",
      "No subtitle found for 253991 - Zübük\n",
      "No subtitle found for 18568902 - Kaun Pravin Tambe?\n",
      "No subtitle found for 26537229 - Demon Slayer: Kimetsu No Yaiba - To the Swordsmith Village\n",
      "No subtitle found for 11720440 - Carry on Jatta 3\n",
      "No subtitle found for 9968 - Broken Blossoms\n",
      "No subtitle found for 28145495 - Uruttu Tech\n",
      "No subtitle found for 4139928 - The Legend of Maula Jatt\n",
      "No subtitle found for 1033483 - Kandisha\n",
      "No subtitle found for 16747572 - The Silence of Swastika\n",
      "Error downloading subtitle for The Bridge at Remagen\n"
     ]
    },
    {
     "ename": "SRTParseError",
     "evalue": "Expected contiguous start of match or end of input at char 0, but started at char 6367 (unmatched content: '<!DOCTYPE html>\\n<!--[if lt IE 7]> <html class=\"no-js ie6 oldie\" lang=\"en-US\"> <![endif]-->\\n<!--[if IE 7]>    <html class=\"no-js ie7 oldie\" lang=\"en-US\"> <![endif]-->\\n<!--[if IE 8]>    <html class=\"no-js ie8 oldie\" lang=\"en-US\"> <![endif]-->\\n<!--[if gt IE 8]><!--> <html class=\"no-js\" lang=\"en-US\"> <!--<![endif]-->\\n<head>\\n\\n\\n<title>www.opensubtitles.com | 502: Bad gateway</title>\\n<meta charset=\"UTF-8\" />\\n<meta http-equiv=\"Content-Type\" content=\"text/html; charset=UTF-8\" />\\n<meta http-equiv=\"X-UA-Compatible\" content=\"IE=Edge\" />\\n<meta name=\"robots\" content=\"noindex, nofollow\" />\\n<meta name=\"viewport\" content=\"width=device-width,initial-scale=1\" />\\n<link rel=\"stylesheet\" id=\"cf_styles-css\" href=\"/cdn-cgi/styles/main.css\" />\\n\\n\\n</head>\\n<body>\\n<div id=\"cf-wrapper\">\\n    <div id=\"cf-error-details\" class=\"p-0\">\\n        <header class=\"mx-auto pt-10 lg:pt-6 lg:px-8 w-240 lg:w-full mb-8\">\\n            <h1 class=\"inline-block sm:block sm:mb-2 font-light text-60 lg:text-4xl text-black-dark leading-tight mr-2\">\\n              <span class=\"inline-block\">Bad gateway</span>\\n              <span class=\"code-label\">Error code 502</span>\\n            </h1>\\n            <div>\\n               Visit <a href=\"https://www.cloudflare.com/5xx-error-landing?utm_source=errorcode_502&utm_campaign=www.opensubtitles.com\" target=\"_blank\" rel=\"noopener noreferrer\">cloudflare.com</a> for more information.\\n            </div>\\n            <div class=\"mt-3\">2024-05-11 03:00:04 UTC</div>\\n        </header>\\n        <div class=\"my-8 bg-gradient-gray\">\\n            <div class=\"w-240 lg:w-full mx-auto\">\\n                <div class=\"clearfix md:px-8\">\\n                  \\n<div id=\"cf-browser-status\" class=\" relative w-1/3 md:w-full py-15 md:p-0 md:py-8 md:text-left md:border-solid md:border-0 md:border-b md:border-gray-400 overflow-hidden float-left md:float-none text-center\">\\n  <div class=\"relative mb-10 md:m-0\">\\n    \\n    <span class=\"cf-icon-browser block md:hidden h-20 bg-center bg-no-repeat\"></span>\\n    <span class=\"cf-icon-ok w-12 h-12 absolute left-1/2 md:left-auto md:right-0 md:top-0 -ml-6 -bottom-4\"></span>\\n    \\n  </div>\\n  <span class=\"md:block w-full truncate\">You</span>\\n  <h3 class=\"md:inline-block mt-3 md:mt-0 text-2xl text-gray-600 font-light leading-1.3\">\\n    \\n    Browser\\n    \\n  </h3>\\n  <span class=\"leading-1.3 text-2xl text-green-success\">Working</span>\\n</div>\\n\\n<div id=\"cf-cloudflare-status\" class=\" relative w-1/3 md:w-full py-15 md:p-0 md:py-8 md:text-left md:border-solid md:border-0 md:border-b md:border-gray-400 overflow-hidden float-left md:float-none text-center\">\\n  <div class=\"relative mb-10 md:m-0\">\\n    <a href=\"https://www.cloudflare.com/5xx-error-landing?utm_source=errorcode_502&utm_campaign=www.opensubtitles.com\" target=\"_blank\" rel=\"noopener noreferrer\">\\n    <span class=\"cf-icon-cloud block md:hidden h-20 bg-center bg-no-repeat\"></span>\\n    <span class=\"cf-icon-ok w-12 h-12 absolute left-1/2 md:left-auto md:right-0 md:top-0 -ml-6 -bottom-4\"></span>\\n    </a>\\n  </div>\\n  <span class=\"md:block w-full truncate\">Chicago</span>\\n  <h3 class=\"md:inline-block mt-3 md:mt-0 text-2xl text-gray-600 font-light leading-1.3\">\\n    <a href=\"https://www.cloudflare.com/5xx-error-landing?utm_source=errorcode_502&utm_campaign=www.opensubtitles.com\" target=\"_blank\" rel=\"noopener noreferrer\">\\n    Cloudflare\\n    </a>\\n  </h3>\\n  <span class=\"leading-1.3 text-2xl text-green-success\">Working</span>\\n</div>\\n\\n<div id=\"cf-host-status\" class=\"cf-error-source relative w-1/3 md:w-full py-15 md:p-0 md:py-8 md:text-left md:border-solid md:border-0 md:border-b md:border-gray-400 overflow-hidden float-left md:float-none text-center\">\\n  <div class=\"relative mb-10 md:m-0\">\\n    \\n    <span class=\"cf-icon-server block md:hidden h-20 bg-center bg-no-repeat\"></span>\\n    <span class=\"cf-icon-error w-12 h-12 absolute left-1/2 md:left-auto md:right-0 md:top-0 -ml-6 -bottom-4\"></span>\\n    \\n  </div>\\n  <span class=\"md:block w-full truncate\">www.opensubtitles.com</span>\\n  <h3 class=\"md:inline-block mt-3 md:mt-0 text-2xl text-gray-600 font-light leading-1.3\">\\n    \\n    Host\\n    \\n  </h3>\\n  <span class=\"leading-1.3 text-2xl text-red-error\">Error</span>\\n</div>\\n\\n                </div>\\n            </div>\\n        </div>\\n\\n        <div class=\"w-240 lg:w-full mx-auto mb-8 lg:px-8\">\\n            <div class=\"clearfix\">\\n                <div class=\"w-1/2 md:w-full float-left pr-6 md:pb-10 md:pr-0 leading-relaxed\">\\n                    <h2 class=\"text-3xl font-normal leading-1.3 mb-4\">What happened?</h2>\\n                    <p>The web server reported a bad gateway error.</p>\\n                </div>\\n                <div class=\"w-1/2 md:w-full float-left leading-relaxed\">\\n                    <h2 class=\"text-3xl font-normal leading-1.3 mb-4\">What can I do?</h2>\\n                    <p class=\"mb-6\">Please try again in a few minutes.</p>\\n                </div>\\n            </div>\\n        </div>\\n\\n        <div class=\"cf-error-footer cf-wrapper w-240 lg:w-full py-10 sm:py-4 sm:px-8 mx-auto text-center sm:text-left border-solid border-0 border-t border-gray-300\">\\n  <p class=\"text-13\">\\n    <span class=\"cf-footer-item sm:block sm:mb-1\">Cloudflare Ray ID: <strong class=\"font-semibold\">881eeaa97ffd2237</strong></span>\\n    <span class=\"cf-footer-separator sm:hidden\">&bull;</span>\\n    <span id=\"cf-footer-item-ip\" class=\"cf-footer-item hidden sm:block sm:mb-1\">\\n      Your IP:\\n      <button type=\"button\" id=\"cf-footer-ip-reveal\" class=\"cf-footer-ip-reveal-btn\">Click to reveal</button>\\n      <span class=\"hidden\" id=\"cf-footer-ip\">172.125.100.90</span>\\n      <span class=\"cf-footer-separator sm:hidden\">&bull;</span>\\n    </span>\\n    <span class=\"cf-footer-item sm:block sm:mb-1\"><span>Performance &amp; security by</span> <a rel=\"noopener noreferrer\" href=\"https://www.cloudflare.com/5xx-error-landing?utm_source=errorcode_502&utm_campaign=www.opensubtitles.com\" id=\"brand_link\" target=\"_blank\">Cloudflare</a></span>\\n    \\n  </p>\\n  <script>(function(){function d(){var b=a.getElementById(\"cf-footer-item-ip\"),c=a.getElementById(\"cf-footer-ip-reveal\");b&&\"classList\"in b&&(b.classList.remove(\"hidden\"),c.addEventListener(\"click\",function(){c.classList.add(\"hidden\");a.getElementById(\"cf-footer-ip\").classList.remove(\"hidden\")}))}var a=document;document.addEventListener&&a.addEventListener(\"DOMContentLoaded\",d)})();</script>\\n</div><!-- /.error-footer -->\\n\\n\\n    </div>\\n</div>\\n</body>\\n</html>\\n')",
     "output_type": "error",
     "traceback": [
      "\u001b[1;31m---------------------------------------------------------------------------\u001b[0m",
      "\u001b[1;31mSRTParseError\u001b[0m                             Traceback (most recent call last)",
      "Cell \u001b[1;32mIn[17], line 57\u001b[0m\n\u001b[0;32m     56\u001b[0m \u001b[38;5;28;01mtry\u001b[39;00m:\n\u001b[1;32m---> 57\u001b[0m     srt \u001b[38;5;241m=\u001b[39m subtitles\u001b[38;5;241m.\u001b[39mdownload_and_parse(response\u001b[38;5;241m.\u001b[39mdata[\u001b[38;5;241m0\u001b[39m])\n\u001b[0;32m     58\u001b[0m \u001b[38;5;28;01mexcept\u001b[39;00m:\n",
      "File \u001b[1;32mc:\\Users\\kyle0\\anaconda3\\Lib\\site-packages\\opensubtitlescom\\opensubtitles.py:264\u001b[0m, in \u001b[0;36mOpenSubtitles.download_and_parse\u001b[1;34m(self, *args, **kwargs)\u001b[0m\n\u001b[0;32m    263\u001b[0m content \u001b[38;5;241m=\u001b[39m \u001b[38;5;28mself\u001b[39m\u001b[38;5;241m.\u001b[39mdownload(\u001b[38;5;241m*\u001b[39margs, \u001b[38;5;241m*\u001b[39m\u001b[38;5;241m*\u001b[39mkwargs)\n\u001b[1;32m--> 264\u001b[0m \u001b[38;5;28;01mreturn\u001b[39;00m \u001b[38;5;28mself\u001b[39m\u001b[38;5;241m.\u001b[39mparse_srt(\u001b[38;5;28mself\u001b[39m\u001b[38;5;241m.\u001b[39mbytes_to_str(content))\n",
      "File \u001b[1;32mc:\\Users\\kyle0\\anaconda3\\Lib\\site-packages\\opensubtitlescom\\opensubtitles.py:347\u001b[0m, in \u001b[0;36mOpenSubtitles.parse_srt\u001b[1;34m(self, content)\u001b[0m\n\u001b[0;32m    346\u001b[0m parsed_content \u001b[38;5;241m=\u001b[39m parse(content)\n\u001b[1;32m--> 347\u001b[0m \u001b[38;5;28;01mreturn\u001b[39;00m \u001b[38;5;28mlist\u001b[39m(parsed_content)\n",
      "File \u001b[1;32mc:\\Users\\kyle0\\anaconda3\\Lib\\site-packages\\opensubtitlescom\\srt.py:485\u001b[0m, in \u001b[0;36mparse\u001b[1;34m(srt, ignore_errors, content_replace)\u001b[0m\n\u001b[0;32m    483\u001b[0m     expected_start \u001b[38;5;241m=\u001b[39m match\u001b[38;5;241m.\u001b[39mend()\n\u001b[1;32m--> 485\u001b[0m _check_contiguity(srt, expected_start, \u001b[38;5;28mlen\u001b[39m(srt), ignore_errors)\n",
      "File \u001b[1;32mc:\\Users\\kyle0\\anaconda3\\Lib\\site-packages\\opensubtitlescom\\srt.py:515\u001b[0m, in \u001b[0;36m_check_contiguity\u001b[1;34m(srt, expected_start, actual_start, warn_only)\u001b[0m\n\u001b[0;32m    514\u001b[0m \u001b[38;5;28;01melse\u001b[39;00m:\n\u001b[1;32m--> 515\u001b[0m     \u001b[38;5;28;01mraise\u001b[39;00m SRTParseError(expected_start, actual_start, unmatched_content)\n",
      "\u001b[1;31mSRTParseError\u001b[0m: Expected contiguous start of match or end of input at char 0, but started at char 6367 (unmatched content: '<!DOCTYPE html>\\n<!--[if lt IE 7]> <html class=\"no-js ie6 oldie\" lang=\"en-US\"> <![endif]-->\\n<!--[if IE 7]>    <html class=\"no-js ie7 oldie\" lang=\"en-US\"> <![endif]-->\\n<!--[if IE 8]>    <html class=\"no-js ie8 oldie\" lang=\"en-US\"> <![endif]-->\\n<!--[if gt IE 8]><!--> <html class=\"no-js\" lang=\"en-US\"> <!--<![endif]-->\\n<head>\\n\\n\\n<title>www.opensubtitles.com | 502: Bad gateway</title>\\n<meta charset=\"UTF-8\" />\\n<meta http-equiv=\"Content-Type\" content=\"text/html; charset=UTF-8\" />\\n<meta http-equiv=\"X-UA-Compatible\" content=\"IE=Edge\" />\\n<meta name=\"robots\" content=\"noindex, nofollow\" />\\n<meta name=\"viewport\" content=\"width=device-width,initial-scale=1\" />\\n<link rel=\"stylesheet\" id=\"cf_styles-css\" href=\"/cdn-cgi/styles/main.css\" />\\n\\n\\n</head>\\n<body>\\n<div id=\"cf-wrapper\">\\n    <div id=\"cf-error-details\" class=\"p-0\">\\n        <header class=\"mx-auto pt-10 lg:pt-6 lg:px-8 w-240 lg:w-full mb-8\">\\n            <h1 class=\"inline-block sm:block sm:mb-2 font-light text-60 lg:text-4xl text-black-dark leading-tight mr-2\">\\n              <span class=\"inline-block\">Bad gateway</span>\\n              <span class=\"code-label\">Error code 502</span>\\n            </h1>\\n            <div>\\n               Visit <a href=\"https://www.cloudflare.com/5xx-error-landing?utm_source=errorcode_502&utm_campaign=www.opensubtitles.com\" target=\"_blank\" rel=\"noopener noreferrer\">cloudflare.com</a> for more information.\\n            </div>\\n            <div class=\"mt-3\">2024-05-11 03:00:03 UTC</div>\\n        </header>\\n        <div class=\"my-8 bg-gradient-gray\">\\n            <div class=\"w-240 lg:w-full mx-auto\">\\n                <div class=\"clearfix md:px-8\">\\n                  \\n<div id=\"cf-browser-status\" class=\" relative w-1/3 md:w-full py-15 md:p-0 md:py-8 md:text-left md:border-solid md:border-0 md:border-b md:border-gray-400 overflow-hidden float-left md:float-none text-center\">\\n  <div class=\"relative mb-10 md:m-0\">\\n    \\n    <span class=\"cf-icon-browser block md:hidden h-20 bg-center bg-no-repeat\"></span>\\n    <span class=\"cf-icon-ok w-12 h-12 absolute left-1/2 md:left-auto md:right-0 md:top-0 -ml-6 -bottom-4\"></span>\\n    \\n  </div>\\n  <span class=\"md:block w-full truncate\">You</span>\\n  <h3 class=\"md:inline-block mt-3 md:mt-0 text-2xl text-gray-600 font-light leading-1.3\">\\n    \\n    Browser\\n    \\n  </h3>\\n  <span class=\"leading-1.3 text-2xl text-green-success\">Working</span>\\n</div>\\n\\n<div id=\"cf-cloudflare-status\" class=\" relative w-1/3 md:w-full py-15 md:p-0 md:py-8 md:text-left md:border-solid md:border-0 md:border-b md:border-gray-400 overflow-hidden float-left md:float-none text-center\">\\n  <div class=\"relative mb-10 md:m-0\">\\n    <a href=\"https://www.cloudflare.com/5xx-error-landing?utm_source=errorcode_502&utm_campaign=www.opensubtitles.com\" target=\"_blank\" rel=\"noopener noreferrer\">\\n    <span class=\"cf-icon-cloud block md:hidden h-20 bg-center bg-no-repeat\"></span>\\n    <span class=\"cf-icon-ok w-12 h-12 absolute left-1/2 md:left-auto md:right-0 md:top-0 -ml-6 -bottom-4\"></span>\\n    </a>\\n  </div>\\n  <span class=\"md:block w-full truncate\">Chicago</span>\\n  <h3 class=\"md:inline-block mt-3 md:mt-0 text-2xl text-gray-600 font-light leading-1.3\">\\n    <a href=\"https://www.cloudflare.com/5xx-error-landing?utm_source=errorcode_502&utm_campaign=www.opensubtitles.com\" target=\"_blank\" rel=\"noopener noreferrer\">\\n    Cloudflare\\n    </a>\\n  </h3>\\n  <span class=\"leading-1.3 text-2xl text-green-success\">Working</span>\\n</div>\\n\\n<div id=\"cf-host-status\" class=\"cf-error-source relative w-1/3 md:w-full py-15 md:p-0 md:py-8 md:text-left md:border-solid md:border-0 md:border-b md:border-gray-400 overflow-hidden float-left md:float-none text-center\">\\n  <div class=\"relative mb-10 md:m-0\">\\n    \\n    <span class=\"cf-icon-server block md:hidden h-20 bg-center bg-no-repeat\"></span>\\n    <span class=\"cf-icon-error w-12 h-12 absolute left-1/2 md:left-auto md:right-0 md:top-0 -ml-6 -bottom-4\"></span>\\n    \\n  </div>\\n  <span class=\"md:block w-full truncate\">www.opensubtitles.com</span>\\n  <h3 class=\"md:inline-block mt-3 md:mt-0 text-2xl text-gray-600 font-light leading-1.3\">\\n    \\n    Host\\n    \\n  </h3>\\n  <span class=\"leading-1.3 text-2xl text-red-error\">Error</span>\\n</div>\\n\\n                </div>\\n            </div>\\n        </div>\\n\\n        <div class=\"w-240 lg:w-full mx-auto mb-8 lg:px-8\">\\n            <div class=\"clearfix\">\\n                <div class=\"w-1/2 md:w-full float-left pr-6 md:pb-10 md:pr-0 leading-relaxed\">\\n                    <h2 class=\"text-3xl font-normal leading-1.3 mb-4\">What happened?</h2>\\n                    <p>The web server reported a bad gateway error.</p>\\n                </div>\\n                <div class=\"w-1/2 md:w-full float-left leading-relaxed\">\\n                    <h2 class=\"text-3xl font-normal leading-1.3 mb-4\">What can I do?</h2>\\n                    <p class=\"mb-6\">Please try again in a few minutes.</p>\\n                </div>\\n            </div>\\n        </div>\\n\\n        <div class=\"cf-error-footer cf-wrapper w-240 lg:w-full py-10 sm:py-4 sm:px-8 mx-auto text-center sm:text-left border-solid border-0 border-t border-gray-300\">\\n  <p class=\"text-13\">\\n    <span class=\"cf-footer-item sm:block sm:mb-1\">Cloudflare Ray ID: <strong class=\"font-semibold\">881eeaa37e51811f</strong></span>\\n    <span class=\"cf-footer-separator sm:hidden\">&bull;</span>\\n    <span id=\"cf-footer-item-ip\" class=\"cf-footer-item hidden sm:block sm:mb-1\">\\n      Your IP:\\n      <button type=\"button\" id=\"cf-footer-ip-reveal\" class=\"cf-footer-ip-reveal-btn\">Click to reveal</button>\\n      <span class=\"hidden\" id=\"cf-footer-ip\">172.125.100.90</span>\\n      <span class=\"cf-footer-separator sm:hidden\">&bull;</span>\\n    </span>\\n    <span class=\"cf-footer-item sm:block sm:mb-1\"><span>Performance &amp; security by</span> <a rel=\"noopener noreferrer\" href=\"https://www.cloudflare.com/5xx-error-landing?utm_source=errorcode_502&utm_campaign=www.opensubtitles.com\" id=\"brand_link\" target=\"_blank\">Cloudflare</a></span>\\n    \\n  </p>\\n  <script>(function(){function d(){var b=a.getElementById(\"cf-footer-item-ip\"),c=a.getElementById(\"cf-footer-ip-reveal\");b&&\"classList\"in b&&(b.classList.remove(\"hidden\"),c.addEventListener(\"click\",function(){c.classList.add(\"hidden\");a.getElementById(\"cf-footer-ip\").classList.remove(\"hidden\")}))}var a=document;document.addEventListener&&a.addEventListener(\"DOMContentLoaded\",d)})();</script>\\n</div><!-- /.error-footer -->\\n\\n\\n    </div>\\n</div>\\n</body>\\n</html>\\n')",
      "\nDuring handling of the above exception, another exception occurred:\n",
      "\u001b[1;31mSRTParseError\u001b[0m                             Traceback (most recent call last)",
      "Cell \u001b[1;32mIn[17], line 60\u001b[0m\n\u001b[0;32m     58\u001b[0m \u001b[38;5;28;01mexcept\u001b[39;00m:\n\u001b[0;32m     59\u001b[0m     \u001b[38;5;28mprint\u001b[39m(\u001b[38;5;124mf\u001b[39m\u001b[38;5;124m'\u001b[39m\u001b[38;5;124mError downloading subtitle for \u001b[39m\u001b[38;5;132;01m{\u001b[39;00mtitle\u001b[38;5;132;01m}\u001b[39;00m\u001b[38;5;124m'\u001b[39m)\n\u001b[1;32m---> 60\u001b[0m     srt \u001b[38;5;241m=\u001b[39m subtitles\u001b[38;5;241m.\u001b[39mdownload_and_parse(response\u001b[38;5;241m.\u001b[39mdata[\u001b[38;5;241m1\u001b[39m])\n\u001b[0;32m     62\u001b[0m \u001b[38;5;66;03m# Save\u001b[39;00m\n\u001b[0;32m     63\u001b[0m \u001b[38;5;28;01mwith\u001b[39;00m \u001b[38;5;28mopen\u001b[39m(\u001b[38;5;124mf\u001b[39m\u001b[38;5;124m'\u001b[39m\u001b[38;5;132;01m{\u001b[39;00mprefix\u001b[38;5;132;01m}\u001b[39;00m\u001b[38;5;132;01m{\u001b[39;00mtitle\u001b[38;5;132;01m}\u001b[39;00m\u001b[38;5;124m.txt\u001b[39m\u001b[38;5;124m'\u001b[39m, \u001b[38;5;124m'\u001b[39m\u001b[38;5;124mw\u001b[39m\u001b[38;5;124m'\u001b[39m, encoding\u001b[38;5;241m=\u001b[39m\u001b[38;5;124m'\u001b[39m\u001b[38;5;124mutf-8\u001b[39m\u001b[38;5;124m'\u001b[39m) \u001b[38;5;28;01mas\u001b[39;00m f:\n",
      "File \u001b[1;32mc:\\Users\\kyle0\\anaconda3\\Lib\\site-packages\\opensubtitlescom\\opensubtitles.py:264\u001b[0m, in \u001b[0;36mOpenSubtitles.download_and_parse\u001b[1;34m(self, *args, **kwargs)\u001b[0m\n\u001b[0;32m    238\u001b[0m \u001b[38;5;250m\u001b[39m\u001b[38;5;124;03m\"\"\"\u001b[39;00m\n\u001b[0;32m    239\u001b[0m \u001b[38;5;124;03mDownload a subtitle file and parse it into a list of subtitle entries in SRT format.\u001b[39;00m\n\u001b[0;32m    240\u001b[0m \n\u001b[1;32m   (...)\u001b[0m\n\u001b[0;32m    261\u001b[0m \u001b[38;5;124;03m```\u001b[39;00m\n\u001b[0;32m    262\u001b[0m \u001b[38;5;124;03m\"\"\"\u001b[39;00m\n\u001b[0;32m    263\u001b[0m content \u001b[38;5;241m=\u001b[39m \u001b[38;5;28mself\u001b[39m\u001b[38;5;241m.\u001b[39mdownload(\u001b[38;5;241m*\u001b[39margs, \u001b[38;5;241m*\u001b[39m\u001b[38;5;241m*\u001b[39mkwargs)\n\u001b[1;32m--> 264\u001b[0m \u001b[38;5;28;01mreturn\u001b[39;00m \u001b[38;5;28mself\u001b[39m\u001b[38;5;241m.\u001b[39mparse_srt(\u001b[38;5;28mself\u001b[39m\u001b[38;5;241m.\u001b[39mbytes_to_str(content))\n",
      "File \u001b[1;32mc:\\Users\\kyle0\\anaconda3\\Lib\\site-packages\\opensubtitlescom\\opensubtitles.py:347\u001b[0m, in \u001b[0;36mOpenSubtitles.parse_srt\u001b[1;34m(self, content)\u001b[0m\n\u001b[0;32m    337\u001b[0m \u001b[38;5;250m\u001b[39m\u001b[38;5;124;03m\"\"\"\u001b[39;00m\n\u001b[0;32m    338\u001b[0m \u001b[38;5;124;03mParse subtitles in SRT format.\u001b[39;00m\n\u001b[0;32m    339\u001b[0m \n\u001b[1;32m   (...)\u001b[0m\n\u001b[0;32m    344\u001b[0m \u001b[38;5;124;03m    list: A list of parsed subtitle entries.\u001b[39;00m\n\u001b[0;32m    345\u001b[0m \u001b[38;5;124;03m\"\"\"\u001b[39;00m\n\u001b[0;32m    346\u001b[0m parsed_content \u001b[38;5;241m=\u001b[39m parse(content)\n\u001b[1;32m--> 347\u001b[0m \u001b[38;5;28;01mreturn\u001b[39;00m \u001b[38;5;28mlist\u001b[39m(parsed_content)\n",
      "File \u001b[1;32mc:\\Users\\kyle0\\anaconda3\\Lib\\site-packages\\opensubtitlescom\\srt.py:485\u001b[0m, in \u001b[0;36mparse\u001b[1;34m(srt, ignore_errors, content_replace)\u001b[0m\n\u001b[0;32m    475\u001b[0m     \u001b[38;5;28;01myield\u001b[39;00m Subtitle(\n\u001b[0;32m    476\u001b[0m         index\u001b[38;5;241m=\u001b[39mraw_index,\n\u001b[0;32m    477\u001b[0m         start\u001b[38;5;241m=\u001b[39msrt_timestamp_to_timedelta(raw_start),\n\u001b[1;32m   (...)\u001b[0m\n\u001b[0;32m    480\u001b[0m         proprietary\u001b[38;5;241m=\u001b[39mproprietary,\n\u001b[0;32m    481\u001b[0m     )\n\u001b[0;32m    483\u001b[0m     expected_start \u001b[38;5;241m=\u001b[39m match\u001b[38;5;241m.\u001b[39mend()\n\u001b[1;32m--> 485\u001b[0m _check_contiguity(srt, expected_start, \u001b[38;5;28mlen\u001b[39m(srt), ignore_errors)\n",
      "File \u001b[1;32mc:\\Users\\kyle0\\anaconda3\\Lib\\site-packages\\opensubtitlescom\\srt.py:515\u001b[0m, in \u001b[0;36m_check_contiguity\u001b[1;34m(srt, expected_start, actual_start, warn_only)\u001b[0m\n\u001b[0;32m    513\u001b[0m     LOG\u001b[38;5;241m.\u001b[39mwarning(\u001b[38;5;124m\"\u001b[39m\u001b[38;5;124mSkipped Unparsable SRT data: \u001b[39m\u001b[38;5;132;01m%r\u001b[39;00m\u001b[38;5;124m\"\u001b[39m, unmatched_content)\n\u001b[0;32m    514\u001b[0m \u001b[38;5;28;01melse\u001b[39;00m:\n\u001b[1;32m--> 515\u001b[0m     \u001b[38;5;28;01mraise\u001b[39;00m SRTParseError(expected_start, actual_start, unmatched_content)\n",
      "\u001b[1;31mSRTParseError\u001b[0m: Expected contiguous start of match or end of input at char 0, but started at char 6367 (unmatched content: '<!DOCTYPE html>\\n<!--[if lt IE 7]> <html class=\"no-js ie6 oldie\" lang=\"en-US\"> <![endif]-->\\n<!--[if IE 7]>    <html class=\"no-js ie7 oldie\" lang=\"en-US\"> <![endif]-->\\n<!--[if IE 8]>    <html class=\"no-js ie8 oldie\" lang=\"en-US\"> <![endif]-->\\n<!--[if gt IE 8]><!--> <html class=\"no-js\" lang=\"en-US\"> <!--<![endif]-->\\n<head>\\n\\n\\n<title>www.opensubtitles.com | 502: Bad gateway</title>\\n<meta charset=\"UTF-8\" />\\n<meta http-equiv=\"Content-Type\" content=\"text/html; charset=UTF-8\" />\\n<meta http-equiv=\"X-UA-Compatible\" content=\"IE=Edge\" />\\n<meta name=\"robots\" content=\"noindex, nofollow\" />\\n<meta name=\"viewport\" content=\"width=device-width,initial-scale=1\" />\\n<link rel=\"stylesheet\" id=\"cf_styles-css\" href=\"/cdn-cgi/styles/main.css\" />\\n\\n\\n</head>\\n<body>\\n<div id=\"cf-wrapper\">\\n    <div id=\"cf-error-details\" class=\"p-0\">\\n        <header class=\"mx-auto pt-10 lg:pt-6 lg:px-8 w-240 lg:w-full mb-8\">\\n            <h1 class=\"inline-block sm:block sm:mb-2 font-light text-60 lg:text-4xl text-black-dark leading-tight mr-2\">\\n              <span class=\"inline-block\">Bad gateway</span>\\n              <span class=\"code-label\">Error code 502</span>\\n            </h1>\\n            <div>\\n               Visit <a href=\"https://www.cloudflare.com/5xx-error-landing?utm_source=errorcode_502&utm_campaign=www.opensubtitles.com\" target=\"_blank\" rel=\"noopener noreferrer\">cloudflare.com</a> for more information.\\n            </div>\\n            <div class=\"mt-3\">2024-05-11 03:00:04 UTC</div>\\n        </header>\\n        <div class=\"my-8 bg-gradient-gray\">\\n            <div class=\"w-240 lg:w-full mx-auto\">\\n                <div class=\"clearfix md:px-8\">\\n                  \\n<div id=\"cf-browser-status\" class=\" relative w-1/3 md:w-full py-15 md:p-0 md:py-8 md:text-left md:border-solid md:border-0 md:border-b md:border-gray-400 overflow-hidden float-left md:float-none text-center\">\\n  <div class=\"relative mb-10 md:m-0\">\\n    \\n    <span class=\"cf-icon-browser block md:hidden h-20 bg-center bg-no-repeat\"></span>\\n    <span class=\"cf-icon-ok w-12 h-12 absolute left-1/2 md:left-auto md:right-0 md:top-0 -ml-6 -bottom-4\"></span>\\n    \\n  </div>\\n  <span class=\"md:block w-full truncate\">You</span>\\n  <h3 class=\"md:inline-block mt-3 md:mt-0 text-2xl text-gray-600 font-light leading-1.3\">\\n    \\n    Browser\\n    \\n  </h3>\\n  <span class=\"leading-1.3 text-2xl text-green-success\">Working</span>\\n</div>\\n\\n<div id=\"cf-cloudflare-status\" class=\" relative w-1/3 md:w-full py-15 md:p-0 md:py-8 md:text-left md:border-solid md:border-0 md:border-b md:border-gray-400 overflow-hidden float-left md:float-none text-center\">\\n  <div class=\"relative mb-10 md:m-0\">\\n    <a href=\"https://www.cloudflare.com/5xx-error-landing?utm_source=errorcode_502&utm_campaign=www.opensubtitles.com\" target=\"_blank\" rel=\"noopener noreferrer\">\\n    <span class=\"cf-icon-cloud block md:hidden h-20 bg-center bg-no-repeat\"></span>\\n    <span class=\"cf-icon-ok w-12 h-12 absolute left-1/2 md:left-auto md:right-0 md:top-0 -ml-6 -bottom-4\"></span>\\n    </a>\\n  </div>\\n  <span class=\"md:block w-full truncate\">Chicago</span>\\n  <h3 class=\"md:inline-block mt-3 md:mt-0 text-2xl text-gray-600 font-light leading-1.3\">\\n    <a href=\"https://www.cloudflare.com/5xx-error-landing?utm_source=errorcode_502&utm_campaign=www.opensubtitles.com\" target=\"_blank\" rel=\"noopener noreferrer\">\\n    Cloudflare\\n    </a>\\n  </h3>\\n  <span class=\"leading-1.3 text-2xl text-green-success\">Working</span>\\n</div>\\n\\n<div id=\"cf-host-status\" class=\"cf-error-source relative w-1/3 md:w-full py-15 md:p-0 md:py-8 md:text-left md:border-solid md:border-0 md:border-b md:border-gray-400 overflow-hidden float-left md:float-none text-center\">\\n  <div class=\"relative mb-10 md:m-0\">\\n    \\n    <span class=\"cf-icon-server block md:hidden h-20 bg-center bg-no-repeat\"></span>\\n    <span class=\"cf-icon-error w-12 h-12 absolute left-1/2 md:left-auto md:right-0 md:top-0 -ml-6 -bottom-4\"></span>\\n    \\n  </div>\\n  <span class=\"md:block w-full truncate\">www.opensubtitles.com</span>\\n  <h3 class=\"md:inline-block mt-3 md:mt-0 text-2xl text-gray-600 font-light leading-1.3\">\\n    \\n    Host\\n    \\n  </h3>\\n  <span class=\"leading-1.3 text-2xl text-red-error\">Error</span>\\n</div>\\n\\n                </div>\\n            </div>\\n        </div>\\n\\n        <div class=\"w-240 lg:w-full mx-auto mb-8 lg:px-8\">\\n            <div class=\"clearfix\">\\n                <div class=\"w-1/2 md:w-full float-left pr-6 md:pb-10 md:pr-0 leading-relaxed\">\\n                    <h2 class=\"text-3xl font-normal leading-1.3 mb-4\">What happened?</h2>\\n                    <p>The web server reported a bad gateway error.</p>\\n                </div>\\n                <div class=\"w-1/2 md:w-full float-left leading-relaxed\">\\n                    <h2 class=\"text-3xl font-normal leading-1.3 mb-4\">What can I do?</h2>\\n                    <p class=\"mb-6\">Please try again in a few minutes.</p>\\n                </div>\\n            </div>\\n        </div>\\n\\n        <div class=\"cf-error-footer cf-wrapper w-240 lg:w-full py-10 sm:py-4 sm:px-8 mx-auto text-center sm:text-left border-solid border-0 border-t border-gray-300\">\\n  <p class=\"text-13\">\\n    <span class=\"cf-footer-item sm:block sm:mb-1\">Cloudflare Ray ID: <strong class=\"font-semibold\">881eeaa97ffd2237</strong></span>\\n    <span class=\"cf-footer-separator sm:hidden\">&bull;</span>\\n    <span id=\"cf-footer-item-ip\" class=\"cf-footer-item hidden sm:block sm:mb-1\">\\n      Your IP:\\n      <button type=\"button\" id=\"cf-footer-ip-reveal\" class=\"cf-footer-ip-reveal-btn\">Click to reveal</button>\\n      <span class=\"hidden\" id=\"cf-footer-ip\">172.125.100.90</span>\\n      <span class=\"cf-footer-separator sm:hidden\">&bull;</span>\\n    </span>\\n    <span class=\"cf-footer-item sm:block sm:mb-1\"><span>Performance &amp; security by</span> <a rel=\"noopener noreferrer\" href=\"https://www.cloudflare.com/5xx-error-landing?utm_source=errorcode_502&utm_campaign=www.opensubtitles.com\" id=\"brand_link\" target=\"_blank\">Cloudflare</a></span>\\n    \\n  </p>\\n  <script>(function(){function d(){var b=a.getElementById(\"cf-footer-item-ip\"),c=a.getElementById(\"cf-footer-ip-reveal\");b&&\"classList\"in b&&(b.classList.remove(\"hidden\"),c.addEventListener(\"click\",function(){c.classList.add(\"hidden\");a.getElementById(\"cf-footer-ip\").classList.remove(\"hidden\")}))}var a=document;document.addEventListener&&a.addEventListener(\"DOMContentLoaded\",d)})();</script>\\n</div><!-- /.error-footer -->\\n\\n\\n    </div>\\n</div>\\n</body>\\n</html>\\n')"
     ]
    }
   ],
   "source": [
    "import time\n",
    "\n",
    "subtitle_path = \"../data/raw/subtitles/\"\n",
    "subs_list = os.listdir(subtitle_path)\n",
    "\n",
    "# if id is in missing.txt, skip\n",
    "with open(subtitle_path + 'missing.txt') as f:\n",
    "    missing = f.read().splitlines()\n",
    "\n",
    "for i in ids:\n",
    "    if str(i) in missing:\n",
    "        print(f'{i}, {get_title(i)} is missing')\n",
    "        continue\n",
    "\n",
    "    prefix = f'{subtitle_path}{i} - '  # Construct the base part of the filename\n",
    "\n",
    "    sub_found = False\n",
    "\n",
    "    # Check if subtitles already exist\n",
    "    for file in os.listdir(subtitle_path):\n",
    "        if file.startswith(f'{i} - '):\n",
    "            sub_found = True\n",
    "            break\n",
    "\n",
    "    if sub_found:\n",
    "        # print(f'Subtitles for {i} already exist')\n",
    "        continue\n",
    "\n",
    "    try:\n",
    "        # Search for subtitles based on imdb_id\n",
    "        # response = subtitles.search(imdb_id=i, languages=\"en\", order_by=\"download_count\", order_direction=\"desc\")\n",
    "        response = subtitles.search(imdb_id=i, languages=\"en\")\n",
    "        # time.sleep(1)\n",
    "\n",
    "        # Convert the response to a Json format\n",
    "        response_json = response.to_json()\n",
    "        r = json.loads(response_json)\n",
    "    except:\n",
    "        print(f'Error searching for subtitles for {i} - {get_title(i)}')\n",
    "        time.sleep(5)\n",
    "        continue\n",
    "\n",
    "    try:\n",
    "        title = r['data'][0]['title'] # Get the title of the movie\n",
    "    except:\n",
    "        print(f'No subtitle found for {i} - {get_title(i)}')\n",
    "        # append id to missing.txt\n",
    "        with open(subtitle_path + 'missing.txt', 'a') as f:\n",
    "            f.write(f'{i}\\n')\n",
    "        continue\n",
    "\n",
    "    # Remove special characters but keep spaces\n",
    "    title = ''.join(e for e in title if e.isalnum() or e.isspace())\n",
    "\n",
    "    # Download and parse the subtitle object\n",
    "    try:\n",
    "        srt = subtitles.download_and_parse(response.data[0])\n",
    "    except:\n",
    "        print(f'Error downloading subtitle for {title}')\n",
    "        srt = subtitles.download_and_parse(response.data[1])\n",
    "\n",
    "    # Save\n",
    "    with open(f'{prefix}{title}.txt', 'w', encoding='utf-8') as f:\n",
    "        for i in srt:\n",
    "            # remove '<i>' and '</i>' tags\n",
    "            i.content = i.content.replace('<i>', '').replace('</i>', '')\n",
    "            f.write(i.content + '\\n')"
   ]
  },
  {
   "cell_type": "code",
   "execution_count": null,
   "metadata": {},
   "outputs": [],
   "source": [
    "\n"
   ]
  },
  {
   "cell_type": "code",
   "execution_count": null,
   "metadata": {},
   "outputs": [],
   "source": []
  }
 ],
 "metadata": {
  "kernelspec": {
   "display_name": "base",
   "language": "python",
   "name": "python3"
  },
  "language_info": {
   "codemirror_mode": {
    "name": "ipython",
    "version": 3
   },
   "file_extension": ".py",
   "mimetype": "text/x-python",
   "name": "python",
   "nbconvert_exporter": "python",
   "pygments_lexer": "ipython3",
   "version": "3.11.7"
  }
 },
 "nbformat": 4,
 "nbformat_minor": 2
}
